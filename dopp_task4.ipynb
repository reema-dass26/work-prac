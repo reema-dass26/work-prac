{
  "nbformat": 4,
  "nbformat_minor": 0,
  "metadata": {
    "colab": {
      "provenance": [],
      "authorship_tag": "ABX9TyMctbwUJPpQ5jcQVBi6vuYo",
      "include_colab_link": true
    },
    "kernelspec": {
      "name": "python3",
      "display_name": "Python 3"
    },
    "language_info": {
      "name": "python"
    }
  },
  "cells": [
    {
      "cell_type": "markdown",
      "metadata": {
        "id": "view-in-github",
        "colab_type": "text"
      },
      "source": [
        "<a href=\"https://colab.research.google.com/github/reema-dass26/work-prac/blob/main/dopp_task4.ipynb\" target=\"_parent\"><img src=\"https://colab.research.google.com/assets/colab-badge.svg\" alt=\"Open In Colab\"/></a>"
      ]
    },
    {
      "cell_type": "code",
      "execution_count": 281,
      "metadata": {
        "id": "foVYYSq8_XeK"
      },
      "outputs": [],
      "source": [
        "import pandas as pd\n",
        "import numpy as np\n",
        "from sklearn.linear_model import LinearRegression\n",
        "import re\n",
        "import json\n",
        "import warnings\n",
        "import pycountry\n",
        "warnings.filterwarnings(\"ignore\")"
      ]
    },
    {
      "cell_type": "code",
      "source": [
        "task4_old=pd.read_csv('/content/sample_data/mydf_towork')\n",
        "task4=pd.read_csv('/content/sample_data/mydf_forprediction')\n",
        "country_list=task4['iso3'].unique()\n"
      ],
      "metadata": {
        "id": "EqJZSywc_yqA"
      },
      "execution_count": 299,
      "outputs": []
    },
    {
      "cell_type": "markdown",
      "source": [
        "capturing mean values in order to use it to fill na if no values are found"
      ],
      "metadata": {
        "id": "oguJravNPowO"
      }
    },
    {
      "cell_type": "code",
      "source": [
        "task4_mean_values = task4.mean(axis=0)\n",
        "# task4_mean_values"
      ],
      "metadata": {
        "id": "obAEs0hlvHKy"
      },
      "execution_count": 300,
      "outputs": []
    },
    {
      "cell_type": "markdown",
      "source": [
        "filtering 0.0 as they have the actual values and rest go for prediction "
      ],
      "metadata": {
        "id": "UAMOcFMgPwfh"
      }
    },
    {
      "cell_type": "code",
      "source": [
        "my_valid_values=[0.0]\n",
        "task4_to_tr_te=task4.loc[task4['psr_comp_source'].isin(my_valid_values) ]\n",
        "my_valid_values=[1.0,2.0]\n",
        "to_predict_df=task4.loc[task4['psr_comp_source'].isin(my_valid_values) ]\n",
        "len(to_predict_df.index)"
      ],
      "metadata": {
        "colab": {
          "base_uri": "https://localhost:8080/"
        },
        "id": "OB_ZKYjO2UT7",
        "outputId": "1fee0b4a-1c2e-4798-bf68-6af90a8ef8b7"
      },
      "execution_count": 359,
      "outputs": [
        {
          "output_type": "execute_result",
          "data": {
            "text/plain": [
              "5320"
            ]
          },
          "metadata": {},
          "execution_count": 359
        }
      ]
    },
    {
      "cell_type": "code",
      "source": [
        "# gov_exp_pc\tilliterate_adult\tilliterate_youth\tgov_exp\n",
        "# task4_to_train_test[task4_to_train_test['gov_exp_pc'].isnull()]\n",
        "# middle_df['gov_exp_pc'].isnull().values.all()"
      ],
      "metadata": {
        "id": "aLo2TX86P1XC"
      },
      "execution_count": null,
      "outputs": []
    },
    {
      "cell_type": "code",
      "source": [
        "task4_to_train_test=pd.DataFrame()\n",
        "for i in country_list:\n",
        "  middle_df=task4_to_tr_te.loc[task4_to_tr_te['iso3'] == i]\n",
        "  middle_df.fillna(middle_df.mean(numeric_only=True), inplace=True) \n",
        "  task4_to_train_test=task4_to_train_test.append(middle_df, ignore_index = True)\n",
        "print(len(task4_to_train_test.index))\n",
        "  \n"
      ],
      "metadata": {
        "colab": {
          "base_uri": "https://localhost:8080/"
        },
        "id": "YmesrqMBwuzb",
        "outputId": "0df57af3-8dde-40be-d5fe-73d2bb5ce066"
      },
      "execution_count": 302,
      "outputs": [
        {
          "output_type": "stream",
          "name": "stdout",
          "text": [
            "5028\n"
          ]
        }
      ]
    },
    {
      "cell_type": "code",
      "source": [
        "nan_cols = [i for i in task4_to_train_test.columns if task4_to_train_test[i].isnull().any()]\n",
        "\n",
        "\n",
        "task4_to_train_test[nan_cols].isnull().values.any()\n",
        "nan_cols\n"
      ],
      "metadata": {
        "colab": {
          "base_uri": "https://localhost:8080/"
        },
        "id": "EdnqAoEIVIDE",
        "outputId": "bc1925e3-18a7-44fa-b46a-79e3048e510d"
      },
      "execution_count": 331,
      "outputs": [
        {
          "output_type": "execute_result",
          "data": {
            "text/plain": [
              "['gii',\n",
              " 'gnipc',\n",
              " 'le',\n",
              " 'eys',\n",
              " 'mys',\n",
              " 'coef_ineq',\n",
              " 'rural',\n",
              " 'compulsory',\n",
              " 'school_age_prim',\n",
              " 'oo_school_prim']"
            ]
          },
          "metadata": {},
          "execution_count": 331
        }
      ]
    },
    {
      "cell_type": "code",
      "source": [
        "nan_cols"
      ],
      "metadata": {
        "colab": {
          "base_uri": "https://localhost:8080/"
        },
        "id": "TbKf-fB6ST9O",
        "outputId": "6af1ad48-e059-43d3-86ff-a93e7a31529d"
      },
      "execution_count": 332,
      "outputs": [
        {
          "output_type": "execute_result",
          "data": {
            "text/plain": [
              "['gii',\n",
              " 'gnipc',\n",
              " 'le',\n",
              " 'eys',\n",
              " 'mys',\n",
              " 'coef_ineq',\n",
              " 'rural',\n",
              " 'compulsory',\n",
              " 'school_age_prim',\n",
              " 'oo_school_prim']"
            ]
          },
          "metadata": {},
          "execution_count": 332
        }
      ]
    },
    {
      "cell_type": "code",
      "source": [
        "# if len(nan_cols)>0:\n",
        "#   for i in nan_cols:\n",
        "#     task4_to_train_test[i].replace(None,task4_mean_values[i],inplace=True)\n",
        "    \n",
        "# len(task4_to_train_test.index)\n",
        "# task4_to_train_test[['gov_exp_pc', 'illiterate_adult', 'illiterate_youth', 'gov_exp']]"
      ],
      "metadata": {
        "id": "LK7i7GA2TYNm"
      },
      "execution_count": 333,
      "outputs": []
    },
    {
      "cell_type": "code",
      "source": [
        "if len(nan_cols)>0:\n",
        "  for i in nan_cols:\n",
        "    task4_to_train_test[i].fillna(task4_mean_values[i], inplace=True)\n",
        "  # task4_to_train_test=middle_df.copy()\n",
        "len(task4_to_train_test.index)\n",
        "# task4_to_train_test[['gov_exp_pc', 'illiterate_adult', 'illiterate_youth', 'gov_exp']]"
      ],
      "metadata": {
        "colab": {
          "base_uri": "https://localhost:8080/",
          "height": 424
        },
        "id": "qwHN-mQ1zA2Z",
        "outputId": "5f4d0c89-791a-49d3-827f-9198b36ad15f"
      },
      "execution_count": 334,
      "outputs": [
        {
          "output_type": "execute_result",
          "data": {
            "text/plain": [
              "       gov_exp_pc  illiterate_adult  illiterate_youth   gov_exp\n",
              "0      230.582888      4.091834e+06     548541.762115  1.943455\n",
              "1      230.582888      4.091834e+06     548541.762115  1.943455\n",
              "2      230.582888      4.091834e+06     548541.762115  1.943455\n",
              "3      230.582888      4.091834e+06     548541.762115  1.943455\n",
              "4      230.582888      4.091834e+06     548541.762115  1.943455\n",
              "...           ...               ...               ...       ...\n",
              "5023  4970.009207      4.091834e+06     548541.762115  1.440225\n",
              "5024  4970.009207      4.091834e+06     548541.762115  1.440225\n",
              "5025  4970.009207      4.091834e+06     548541.762115  1.440225\n",
              "5026  4970.009207      4.091834e+06     548541.762115  1.440225\n",
              "5027  4970.009207      4.091834e+06     548541.762115  1.440225\n",
              "\n",
              "[5028 rows x 4 columns]"
            ],
            "text/html": [
              "\n",
              "  <div id=\"df-5a8b3bd8-d44b-49f0-9e85-03d991f6e003\">\n",
              "    <div class=\"colab-df-container\">\n",
              "      <div>\n",
              "<style scoped>\n",
              "    .dataframe tbody tr th:only-of-type {\n",
              "        vertical-align: middle;\n",
              "    }\n",
              "\n",
              "    .dataframe tbody tr th {\n",
              "        vertical-align: top;\n",
              "    }\n",
              "\n",
              "    .dataframe thead th {\n",
              "        text-align: right;\n",
              "    }\n",
              "</style>\n",
              "<table border=\"1\" class=\"dataframe\">\n",
              "  <thead>\n",
              "    <tr style=\"text-align: right;\">\n",
              "      <th></th>\n",
              "      <th>gov_exp_pc</th>\n",
              "      <th>illiterate_adult</th>\n",
              "      <th>illiterate_youth</th>\n",
              "      <th>gov_exp</th>\n",
              "    </tr>\n",
              "  </thead>\n",
              "  <tbody>\n",
              "    <tr>\n",
              "      <th>0</th>\n",
              "      <td>230.582888</td>\n",
              "      <td>4.091834e+06</td>\n",
              "      <td>548541.762115</td>\n",
              "      <td>1.943455</td>\n",
              "    </tr>\n",
              "    <tr>\n",
              "      <th>1</th>\n",
              "      <td>230.582888</td>\n",
              "      <td>4.091834e+06</td>\n",
              "      <td>548541.762115</td>\n",
              "      <td>1.943455</td>\n",
              "    </tr>\n",
              "    <tr>\n",
              "      <th>2</th>\n",
              "      <td>230.582888</td>\n",
              "      <td>4.091834e+06</td>\n",
              "      <td>548541.762115</td>\n",
              "      <td>1.943455</td>\n",
              "    </tr>\n",
              "    <tr>\n",
              "      <th>3</th>\n",
              "      <td>230.582888</td>\n",
              "      <td>4.091834e+06</td>\n",
              "      <td>548541.762115</td>\n",
              "      <td>1.943455</td>\n",
              "    </tr>\n",
              "    <tr>\n",
              "      <th>4</th>\n",
              "      <td>230.582888</td>\n",
              "      <td>4.091834e+06</td>\n",
              "      <td>548541.762115</td>\n",
              "      <td>1.943455</td>\n",
              "    </tr>\n",
              "    <tr>\n",
              "      <th>...</th>\n",
              "      <td>...</td>\n",
              "      <td>...</td>\n",
              "      <td>...</td>\n",
              "      <td>...</td>\n",
              "    </tr>\n",
              "    <tr>\n",
              "      <th>5023</th>\n",
              "      <td>4970.009207</td>\n",
              "      <td>4.091834e+06</td>\n",
              "      <td>548541.762115</td>\n",
              "      <td>1.440225</td>\n",
              "    </tr>\n",
              "    <tr>\n",
              "      <th>5024</th>\n",
              "      <td>4970.009207</td>\n",
              "      <td>4.091834e+06</td>\n",
              "      <td>548541.762115</td>\n",
              "      <td>1.440225</td>\n",
              "    </tr>\n",
              "    <tr>\n",
              "      <th>5025</th>\n",
              "      <td>4970.009207</td>\n",
              "      <td>4.091834e+06</td>\n",
              "      <td>548541.762115</td>\n",
              "      <td>1.440225</td>\n",
              "    </tr>\n",
              "    <tr>\n",
              "      <th>5026</th>\n",
              "      <td>4970.009207</td>\n",
              "      <td>4.091834e+06</td>\n",
              "      <td>548541.762115</td>\n",
              "      <td>1.440225</td>\n",
              "    </tr>\n",
              "    <tr>\n",
              "      <th>5027</th>\n",
              "      <td>4970.009207</td>\n",
              "      <td>4.091834e+06</td>\n",
              "      <td>548541.762115</td>\n",
              "      <td>1.440225</td>\n",
              "    </tr>\n",
              "  </tbody>\n",
              "</table>\n",
              "<p>5028 rows × 4 columns</p>\n",
              "</div>\n",
              "      <button class=\"colab-df-convert\" onclick=\"convertToInteractive('df-5a8b3bd8-d44b-49f0-9e85-03d991f6e003')\"\n",
              "              title=\"Convert this dataframe to an interactive table.\"\n",
              "              style=\"display:none;\">\n",
              "        \n",
              "  <svg xmlns=\"http://www.w3.org/2000/svg\" height=\"24px\"viewBox=\"0 0 24 24\"\n",
              "       width=\"24px\">\n",
              "    <path d=\"M0 0h24v24H0V0z\" fill=\"none\"/>\n",
              "    <path d=\"M18.56 5.44l.94 2.06.94-2.06 2.06-.94-2.06-.94-.94-2.06-.94 2.06-2.06.94zm-11 1L8.5 8.5l.94-2.06 2.06-.94-2.06-.94L8.5 2.5l-.94 2.06-2.06.94zm10 10l.94 2.06.94-2.06 2.06-.94-2.06-.94-.94-2.06-.94 2.06-2.06.94z\"/><path d=\"M17.41 7.96l-1.37-1.37c-.4-.4-.92-.59-1.43-.59-.52 0-1.04.2-1.43.59L10.3 9.45l-7.72 7.72c-.78.78-.78 2.05 0 2.83L4 21.41c.39.39.9.59 1.41.59.51 0 1.02-.2 1.41-.59l7.78-7.78 2.81-2.81c.8-.78.8-2.07 0-2.86zM5.41 20L4 18.59l7.72-7.72 1.47 1.35L5.41 20z\"/>\n",
              "  </svg>\n",
              "      </button>\n",
              "      \n",
              "  <style>\n",
              "    .colab-df-container {\n",
              "      display:flex;\n",
              "      flex-wrap:wrap;\n",
              "      gap: 12px;\n",
              "    }\n",
              "\n",
              "    .colab-df-convert {\n",
              "      background-color: #E8F0FE;\n",
              "      border: none;\n",
              "      border-radius: 50%;\n",
              "      cursor: pointer;\n",
              "      display: none;\n",
              "      fill: #1967D2;\n",
              "      height: 32px;\n",
              "      padding: 0 0 0 0;\n",
              "      width: 32px;\n",
              "    }\n",
              "\n",
              "    .colab-df-convert:hover {\n",
              "      background-color: #E2EBFA;\n",
              "      box-shadow: 0px 1px 2px rgba(60, 64, 67, 0.3), 0px 1px 3px 1px rgba(60, 64, 67, 0.15);\n",
              "      fill: #174EA6;\n",
              "    }\n",
              "\n",
              "    [theme=dark] .colab-df-convert {\n",
              "      background-color: #3B4455;\n",
              "      fill: #D2E3FC;\n",
              "    }\n",
              "\n",
              "    [theme=dark] .colab-df-convert:hover {\n",
              "      background-color: #434B5C;\n",
              "      box-shadow: 0px 1px 3px 1px rgba(0, 0, 0, 0.15);\n",
              "      filter: drop-shadow(0px 1px 2px rgba(0, 0, 0, 0.3));\n",
              "      fill: #FFFFFF;\n",
              "    }\n",
              "  </style>\n",
              "\n",
              "      <script>\n",
              "        const buttonEl =\n",
              "          document.querySelector('#df-5a8b3bd8-d44b-49f0-9e85-03d991f6e003 button.colab-df-convert');\n",
              "        buttonEl.style.display =\n",
              "          google.colab.kernel.accessAllowed ? 'block' : 'none';\n",
              "\n",
              "        async function convertToInteractive(key) {\n",
              "          const element = document.querySelector('#df-5a8b3bd8-d44b-49f0-9e85-03d991f6e003');\n",
              "          const dataTable =\n",
              "            await google.colab.kernel.invokeFunction('convertToInteractive',\n",
              "                                                     [key], {});\n",
              "          if (!dataTable) return;\n",
              "\n",
              "          const docLinkHtml = 'Like what you see? Visit the ' +\n",
              "            '<a target=\"_blank\" href=https://colab.research.google.com/notebooks/data_table.ipynb>data table notebook</a>'\n",
              "            + ' to learn more about interactive tables.';\n",
              "          element.innerHTML = '';\n",
              "          dataTable['output_type'] = 'display_data';\n",
              "          await google.colab.output.renderOutput(dataTable, element);\n",
              "          const docLink = document.createElement('div');\n",
              "          docLink.innerHTML = docLinkHtml;\n",
              "          element.appendChild(docLink);\n",
              "        }\n",
              "      </script>\n",
              "    </div>\n",
              "  </div>\n",
              "  "
            ]
          },
          "metadata": {},
          "execution_count": 334
        }
      ]
    },
    {
      "cell_type": "code",
      "source": [
        "# task4.dropna(inplace=True)\n",
        "# task4=task4.reset_index()\n",
        "# m_c_list= [\"CHN\",\"IDN\",\"BRA\",\"NGA\",\"BGD\",\"JPN\",\"VNM\",\"COD\",\"IRN\",\"FRA\",\"MMR\",\"KEN\"]\n",
        "# task4_without_to_predict_countries=task4[~task4['iso3'].isin  (m_c_list)]\n",
        "# test=task4_without_to_predict_countries[task4_without_to_predict_countries['iso3'].isin  (m_c_list)]\n",
        "# test\n",
        "# task4_filled_missing_na = task4_without_to_predict_countries.copy()\n",
        "\n",
        "# task4_filled_missing_na.fillna(task4_filled_missing_na.mean(numeric_only=True).round(1), inplace=True) \n"
      ],
      "metadata": {
        "id": "UfM22rzC1fjj"
      },
      "execution_count": 233,
      "outputs": []
    },
    {
      "cell_type": "code",
      "source": [
        "task4_to_train_test.dtypes\n",
        "nan_cols = [i for i in task4_to_train_test.columns if task4_to_train_test[i].isnull().all()]\n",
        "nan_cols\n",
        "\n",
        "len(task4_to_train_test.index)"
      ],
      "metadata": {
        "colab": {
          "base_uri": "https://localhost:8080/"
        },
        "id": "w1TsVvfiAtou",
        "outputId": "406394b5-c55e-49b4-97df-e11087740536"
      },
      "execution_count": 335,
      "outputs": [
        {
          "output_type": "execute_result",
          "data": {
            "text/plain": [
              "5028"
            ]
          },
          "metadata": {},
          "execution_count": 335
        }
      ]
    },
    {
      "cell_type": "code",
      "source": [
        "task4_to_train_test.isnull().values.any()\n",
        "task4_to_train_test[task4_to_train_test.isna().any(axis=1)]"
      ],
      "metadata": {
        "colab": {
          "base_uri": "https://localhost:8080/",
          "height": 160
        },
        "id": "Y06Z8VTTLK_k",
        "outputId": "154530e5-9884-4d07-905f-334a2f927035"
      },
      "execution_count": 336,
      "outputs": [
        {
          "output_type": "execute_result",
          "data": {
            "text/plain": [
              "Empty DataFrame\n",
              "Columns: [Unnamed: 0, iso3, country, pop, year, ps_comp, psr_comp_source, gii, gnipc, gov_exp_pc, le, eys, mys, coef_ineq, rural, compulsory, illiterate_adult, illiterate_youth, school_age_prim, oo_school_prim, gov_exp, iso_num]\n",
              "Index: []\n",
              "\n",
              "[0 rows x 22 columns]"
            ],
            "text/html": [
              "\n",
              "  <div id=\"df-82e40d48-9b3d-496d-bca9-beb390254da8\">\n",
              "    <div class=\"colab-df-container\">\n",
              "      <div>\n",
              "<style scoped>\n",
              "    .dataframe tbody tr th:only-of-type {\n",
              "        vertical-align: middle;\n",
              "    }\n",
              "\n",
              "    .dataframe tbody tr th {\n",
              "        vertical-align: top;\n",
              "    }\n",
              "\n",
              "    .dataframe thead th {\n",
              "        text-align: right;\n",
              "    }\n",
              "</style>\n",
              "<table border=\"1\" class=\"dataframe\">\n",
              "  <thead>\n",
              "    <tr style=\"text-align: right;\">\n",
              "      <th></th>\n",
              "      <th>Unnamed: 0</th>\n",
              "      <th>iso3</th>\n",
              "      <th>country</th>\n",
              "      <th>pop</th>\n",
              "      <th>year</th>\n",
              "      <th>ps_comp</th>\n",
              "      <th>psr_comp_source</th>\n",
              "      <th>gii</th>\n",
              "      <th>gnipc</th>\n",
              "      <th>gov_exp_pc</th>\n",
              "      <th>...</th>\n",
              "      <th>mys</th>\n",
              "      <th>coef_ineq</th>\n",
              "      <th>rural</th>\n",
              "      <th>compulsory</th>\n",
              "      <th>illiterate_adult</th>\n",
              "      <th>illiterate_youth</th>\n",
              "      <th>school_age_prim</th>\n",
              "      <th>oo_school_prim</th>\n",
              "      <th>gov_exp</th>\n",
              "      <th>iso_num</th>\n",
              "    </tr>\n",
              "  </thead>\n",
              "  <tbody>\n",
              "  </tbody>\n",
              "</table>\n",
              "<p>0 rows × 22 columns</p>\n",
              "</div>\n",
              "      <button class=\"colab-df-convert\" onclick=\"convertToInteractive('df-82e40d48-9b3d-496d-bca9-beb390254da8')\"\n",
              "              title=\"Convert this dataframe to an interactive table.\"\n",
              "              style=\"display:none;\">\n",
              "        \n",
              "  <svg xmlns=\"http://www.w3.org/2000/svg\" height=\"24px\"viewBox=\"0 0 24 24\"\n",
              "       width=\"24px\">\n",
              "    <path d=\"M0 0h24v24H0V0z\" fill=\"none\"/>\n",
              "    <path d=\"M18.56 5.44l.94 2.06.94-2.06 2.06-.94-2.06-.94-.94-2.06-.94 2.06-2.06.94zm-11 1L8.5 8.5l.94-2.06 2.06-.94-2.06-.94L8.5 2.5l-.94 2.06-2.06.94zm10 10l.94 2.06.94-2.06 2.06-.94-2.06-.94-.94-2.06-.94 2.06-2.06.94z\"/><path d=\"M17.41 7.96l-1.37-1.37c-.4-.4-.92-.59-1.43-.59-.52 0-1.04.2-1.43.59L10.3 9.45l-7.72 7.72c-.78.78-.78 2.05 0 2.83L4 21.41c.39.39.9.59 1.41.59.51 0 1.02-.2 1.41-.59l7.78-7.78 2.81-2.81c.8-.78.8-2.07 0-2.86zM5.41 20L4 18.59l7.72-7.72 1.47 1.35L5.41 20z\"/>\n",
              "  </svg>\n",
              "      </button>\n",
              "      \n",
              "  <style>\n",
              "    .colab-df-container {\n",
              "      display:flex;\n",
              "      flex-wrap:wrap;\n",
              "      gap: 12px;\n",
              "    }\n",
              "\n",
              "    .colab-df-convert {\n",
              "      background-color: #E8F0FE;\n",
              "      border: none;\n",
              "      border-radius: 50%;\n",
              "      cursor: pointer;\n",
              "      display: none;\n",
              "      fill: #1967D2;\n",
              "      height: 32px;\n",
              "      padding: 0 0 0 0;\n",
              "      width: 32px;\n",
              "    }\n",
              "\n",
              "    .colab-df-convert:hover {\n",
              "      background-color: #E2EBFA;\n",
              "      box-shadow: 0px 1px 2px rgba(60, 64, 67, 0.3), 0px 1px 3px 1px rgba(60, 64, 67, 0.15);\n",
              "      fill: #174EA6;\n",
              "    }\n",
              "\n",
              "    [theme=dark] .colab-df-convert {\n",
              "      background-color: #3B4455;\n",
              "      fill: #D2E3FC;\n",
              "    }\n",
              "\n",
              "    [theme=dark] .colab-df-convert:hover {\n",
              "      background-color: #434B5C;\n",
              "      box-shadow: 0px 1px 3px 1px rgba(0, 0, 0, 0.15);\n",
              "      filter: drop-shadow(0px 1px 2px rgba(0, 0, 0, 0.3));\n",
              "      fill: #FFFFFF;\n",
              "    }\n",
              "  </style>\n",
              "\n",
              "      <script>\n",
              "        const buttonEl =\n",
              "          document.querySelector('#df-82e40d48-9b3d-496d-bca9-beb390254da8 button.colab-df-convert');\n",
              "        buttonEl.style.display =\n",
              "          google.colab.kernel.accessAllowed ? 'block' : 'none';\n",
              "\n",
              "        async function convertToInteractive(key) {\n",
              "          const element = document.querySelector('#df-82e40d48-9b3d-496d-bca9-beb390254da8');\n",
              "          const dataTable =\n",
              "            await google.colab.kernel.invokeFunction('convertToInteractive',\n",
              "                                                     [key], {});\n",
              "          if (!dataTable) return;\n",
              "\n",
              "          const docLinkHtml = 'Like what you see? Visit the ' +\n",
              "            '<a target=\"_blank\" href=https://colab.research.google.com/notebooks/data_table.ipynb>data table notebook</a>'\n",
              "            + ' to learn more about interactive tables.';\n",
              "          element.innerHTML = '';\n",
              "          dataTable['output_type'] = 'display_data';\n",
              "          await google.colab.output.renderOutput(dataTable, element);\n",
              "          const docLink = document.createElement('div');\n",
              "          docLink.innerHTML = docLinkHtml;\n",
              "          element.appendChild(docLink);\n",
              "        }\n",
              "      </script>\n",
              "    </div>\n",
              "  </div>\n",
              "  "
            ]
          },
          "metadata": {},
          "execution_count": 336
        }
      ]
    },
    {
      "cell_type": "code",
      "source": [
        "task4_to_train_test.keys()"
      ],
      "metadata": {
        "colab": {
          "base_uri": "https://localhost:8080/"
        },
        "id": "rppc7MJh11_v",
        "outputId": "caef2948-4201-4af9-e654-210ba016d220"
      },
      "execution_count": 337,
      "outputs": [
        {
          "output_type": "execute_result",
          "data": {
            "text/plain": [
              "Index(['Unnamed: 0', 'iso3', 'country', 'pop', 'year', 'ps_comp',\n",
              "       'psr_comp_source', 'gii', 'gnipc', 'gov_exp_pc', 'le', 'eys', 'mys',\n",
              "       'coef_ineq', 'rural', 'compulsory', 'illiterate_adult',\n",
              "       'illiterate_youth', 'school_age_prim', 'oo_school_prim', 'gov_exp',\n",
              "       'iso_num'],\n",
              "      dtype='object')"
            ]
          },
          "metadata": {},
          "execution_count": 337
        }
      ]
    },
    {
      "cell_type": "code",
      "source": [
        "for index, row in task4_to_train_test.iterrows():\n",
        "    y=pycountry.countries.get(alpha_3=row['iso3'])\n",
        "    task4_to_train_test.at[index,'iso_num'] = y.numeric\n",
        "\n",
        "task4_to_train_test.keys()\n",
        "len(task4_to_train_test.index)"
      ],
      "metadata": {
        "colab": {
          "base_uri": "https://localhost:8080/"
        },
        "id": "R_2asgDZUel1",
        "outputId": "55499678-b4aa-4c7d-8091-8a398a09a50e"
      },
      "execution_count": 338,
      "outputs": [
        {
          "output_type": "execute_result",
          "data": {
            "text/plain": [
              "5028"
            ]
          },
          "metadata": {},
          "execution_count": 338
        }
      ]
    },
    {
      "cell_type": "code",
      "source": [
        "task4_to_train_test.dtypes\n"
      ],
      "metadata": {
        "colab": {
          "base_uri": "https://localhost:8080/"
        },
        "id": "KsQ4-soTQoic",
        "outputId": "1db4143e-7194-4607-b944-80ee59f27e62"
      },
      "execution_count": 339,
      "outputs": [
        {
          "output_type": "execute_result",
          "data": {
            "text/plain": [
              "Unnamed: 0            int64\n",
              "iso3                 object\n",
              "country              object\n",
              "pop                 float64\n",
              "year                  int64\n",
              "ps_comp             float64\n",
              "psr_comp_source     float64\n",
              "gii                 float64\n",
              "gnipc               float64\n",
              "gov_exp_pc          float64\n",
              "le                  float64\n",
              "eys                 float64\n",
              "mys                 float64\n",
              "coef_ineq           float64\n",
              "rural               float64\n",
              "compulsory          float64\n",
              "illiterate_adult    float64\n",
              "illiterate_youth    float64\n",
              "school_age_prim     float64\n",
              "oo_school_prim      float64\n",
              "gov_exp             float64\n",
              "iso_num              object\n",
              "dtype: object"
            ]
          },
          "metadata": {},
          "execution_count": 339
        }
      ]
    },
    {
      "cell_type": "code",
      "source": [
        "from sklearn.feature_selection import SelectPercentile,SelectKBest\n",
        "from sklearn.feature_selection import chi2\n",
        "# task4_to_train_test = task4_to_train_test.apply(lambda x: np.log10(x) if np.issubdtype(x.dtype, np.number) else x)\n",
        "\n",
        "x=task4_to_train_test[[ 'iso_num', 'pop', 'year', 'gii', 'gnipc', 'gov_exp_pc', 'le', 'eys', 'mys',\n",
        "       'coef_ineq', 'rural', 'compulsory', 'illiterate_adult',\n",
        "       'illiterate_youth', 'school_age_prim', 'oo_school_prim', 'gov_exp'\n",
        "       ]].copy()\n",
        "y=task4_to_train_test[[ 'ps_comp']].copy()\n",
        "# x.shape\n",
        "# y=y.astype('int') \n",
        "# x = x.reset_index()\n",
        "feature_names = SelectPercentile(percentile=50).fit(x, y)\n",
        "important__features=feature_names.get_feature_names_out()\n",
        "# print(important__features)\n",
        "if 'iso_num' not in important__features:\n",
        "  selected__features=np.append(important__features, ['iso_num'])\n",
        "important__features=np.append(important__features, ['ps_comp','iso_num'])\n",
        "\n",
        "print(important__features)\n",
        "\n",
        "FS_task4_to_train_test=task4_to_train_test[important__features].copy()\n",
        "\n",
        "FS_task4_to_train_test.keys()\n",
        "len(task4_to_train_test.index) "
      ],
      "metadata": {
        "colab": {
          "base_uri": "https://localhost:8080/"
        },
        "id": "zood0bnRWJNq",
        "outputId": "ee17a1ca-1169-4e87-ebdc-18b754d13c81"
      },
      "execution_count": 350,
      "outputs": [
        {
          "output_type": "stream",
          "name": "stdout",
          "text": [
            "['pop' 'year' 'le' 'eys' 'coef_ineq' 'illiterate_youth' 'school_age_prim'\n",
            " 'oo_school_prim' 'ps_comp' 'iso_num']\n"
          ]
        },
        {
          "output_type": "execute_result",
          "data": {
            "text/plain": [
              "5028"
            ]
          },
          "metadata": {},
          "execution_count": 350
        }
      ]
    },
    {
      "cell_type": "code",
      "source": [
        "from sklearn.model_selection import train_test_split\n",
        "len(FS_task4_to_train_test.index)"
      ],
      "metadata": {
        "colab": {
          "base_uri": "https://localhost:8080/"
        },
        "id": "XCmAqy3gckNU",
        "outputId": "74a13a13-a3ac-4772-ad1c-1d2188b02e70"
      },
      "execution_count": 351,
      "outputs": [
        {
          "output_type": "execute_result",
          "data": {
            "text/plain": [
              "5028"
            ]
          },
          "metadata": {},
          "execution_count": 351
        }
      ]
    },
    {
      "cell_type": "code",
      "source": [
        "\n",
        "\n",
        "train, test = train_test_split(FS_task4_to_train_test, test_size=0.1)\n",
        "\n",
        "train_x=train[selected__features]\n",
        "\n",
        "train_y=train[[ 'ps_comp']]\n",
        "\n",
        "test_x=test[selected__features]\n",
        "\n",
        "test_y=test[['ps_comp']]"
      ],
      "metadata": {
        "id": "yeq7KdofRC2_"
      },
      "execution_count": 352,
      "outputs": []
    },
    {
      "cell_type": "code",
      "source": [
        "\n",
        "train_x"
      ],
      "metadata": {
        "colab": {
          "base_uri": "https://localhost:8080/",
          "height": 424
        },
        "id": "HevSyG1Qp9B1",
        "outputId": "d01c8cdd-aeee-42d0-d922-008f2c2d7b42"
      },
      "execution_count": 353,
      "outputs": [
        {
          "output_type": "execute_result",
          "data": {
            "text/plain": [
              "             pop  year         le        eys  coef_ineq  illiterate_youth  \\\n",
              "2141    319014.0  2011  82.178000  18.547359   5.462641     548541.762115   \n",
              "3585   3495276.0  2008  76.224700  12.777290  21.081329     548541.762115   \n",
              "31    14439748.0  1972  71.947730  12.332351  19.564613     156217.000000   \n",
              "1171    743446.0  1986  77.969221  13.177182  10.130102     548541.762115   \n",
              "3435   2076217.0  2018  77.314200  13.507330  10.706655     548541.762115   \n",
              "...          ...   ...        ...        ...        ...               ...   \n",
              "1041   5123105.0  2020  79.277000  16.545771  16.957122     548541.762115   \n",
              "1736    795563.0  1983  59.219254   7.425258  32.335503     132140.000000   \n",
              "1786   3717668.0  2013  72.628400  14.038430  12.651164       1761.000000   \n",
              "3852   4135579.0  1972  57.429830   9.394598  28.965554     326906.000000   \n",
              "3001   1905847.0  1988  62.005248   6.805196  31.767527     548541.762115   \n",
              "\n",
              "      school_age_prim  oo_school_prim iso_num  \n",
              "2141     3.199600e+04       61.000000     352  \n",
              "3585     4.500215e+05    53307.500000     591  \n",
              "31       4.010073e+06    16077.200000     012  \n",
              "1171     5.674725e+04      584.750000     196  \n",
              "3435     1.118590e+05      781.000000     807  \n",
              "...               ...             ...     ...  \n",
              "1041     4.284680e+05      316.000000     188  \n",
              "1736     3.630182e+05    60845.833333     270  \n",
              "1786     3.091544e+05     2938.400000     268  \n",
              "3852     1.860664e+06    64830.250000     646  \n",
              "3001     6.562110e+05   141206.666667     478  \n",
              "\n",
              "[4525 rows x 9 columns]"
            ],
            "text/html": [
              "\n",
              "  <div id=\"df-d1ecb85a-efef-442d-a12a-73d4b249e698\">\n",
              "    <div class=\"colab-df-container\">\n",
              "      <div>\n",
              "<style scoped>\n",
              "    .dataframe tbody tr th:only-of-type {\n",
              "        vertical-align: middle;\n",
              "    }\n",
              "\n",
              "    .dataframe tbody tr th {\n",
              "        vertical-align: top;\n",
              "    }\n",
              "\n",
              "    .dataframe thead th {\n",
              "        text-align: right;\n",
              "    }\n",
              "</style>\n",
              "<table border=\"1\" class=\"dataframe\">\n",
              "  <thead>\n",
              "    <tr style=\"text-align: right;\">\n",
              "      <th></th>\n",
              "      <th>pop</th>\n",
              "      <th>year</th>\n",
              "      <th>le</th>\n",
              "      <th>eys</th>\n",
              "      <th>coef_ineq</th>\n",
              "      <th>illiterate_youth</th>\n",
              "      <th>school_age_prim</th>\n",
              "      <th>oo_school_prim</th>\n",
              "      <th>iso_num</th>\n",
              "    </tr>\n",
              "  </thead>\n",
              "  <tbody>\n",
              "    <tr>\n",
              "      <th>2141</th>\n",
              "      <td>319014.0</td>\n",
              "      <td>2011</td>\n",
              "      <td>82.178000</td>\n",
              "      <td>18.547359</td>\n",
              "      <td>5.462641</td>\n",
              "      <td>548541.762115</td>\n",
              "      <td>3.199600e+04</td>\n",
              "      <td>61.000000</td>\n",
              "      <td>352</td>\n",
              "    </tr>\n",
              "    <tr>\n",
              "      <th>3585</th>\n",
              "      <td>3495276.0</td>\n",
              "      <td>2008</td>\n",
              "      <td>76.224700</td>\n",
              "      <td>12.777290</td>\n",
              "      <td>21.081329</td>\n",
              "      <td>548541.762115</td>\n",
              "      <td>4.500215e+05</td>\n",
              "      <td>53307.500000</td>\n",
              "      <td>591</td>\n",
              "    </tr>\n",
              "    <tr>\n",
              "      <th>31</th>\n",
              "      <td>14439748.0</td>\n",
              "      <td>1972</td>\n",
              "      <td>71.947730</td>\n",
              "      <td>12.332351</td>\n",
              "      <td>19.564613</td>\n",
              "      <td>156217.000000</td>\n",
              "      <td>4.010073e+06</td>\n",
              "      <td>16077.200000</td>\n",
              "      <td>012</td>\n",
              "    </tr>\n",
              "    <tr>\n",
              "      <th>1171</th>\n",
              "      <td>743446.0</td>\n",
              "      <td>1986</td>\n",
              "      <td>77.969221</td>\n",
              "      <td>13.177182</td>\n",
              "      <td>10.130102</td>\n",
              "      <td>548541.762115</td>\n",
              "      <td>5.674725e+04</td>\n",
              "      <td>584.750000</td>\n",
              "      <td>196</td>\n",
              "    </tr>\n",
              "    <tr>\n",
              "      <th>3435</th>\n",
              "      <td>2076217.0</td>\n",
              "      <td>2018</td>\n",
              "      <td>77.314200</td>\n",
              "      <td>13.507330</td>\n",
              "      <td>10.706655</td>\n",
              "      <td>548541.762115</td>\n",
              "      <td>1.118590e+05</td>\n",
              "      <td>781.000000</td>\n",
              "      <td>807</td>\n",
              "    </tr>\n",
              "    <tr>\n",
              "      <th>...</th>\n",
              "      <td>...</td>\n",
              "      <td>...</td>\n",
              "      <td>...</td>\n",
              "      <td>...</td>\n",
              "      <td>...</td>\n",
              "      <td>...</td>\n",
              "      <td>...</td>\n",
              "      <td>...</td>\n",
              "      <td>...</td>\n",
              "    </tr>\n",
              "    <tr>\n",
              "      <th>1041</th>\n",
              "      <td>5123105.0</td>\n",
              "      <td>2020</td>\n",
              "      <td>79.277000</td>\n",
              "      <td>16.545771</td>\n",
              "      <td>16.957122</td>\n",
              "      <td>548541.762115</td>\n",
              "      <td>4.284680e+05</td>\n",
              "      <td>316.000000</td>\n",
              "      <td>188</td>\n",
              "    </tr>\n",
              "    <tr>\n",
              "      <th>1736</th>\n",
              "      <td>795563.0</td>\n",
              "      <td>1983</td>\n",
              "      <td>59.219254</td>\n",
              "      <td>7.425258</td>\n",
              "      <td>32.335503</td>\n",
              "      <td>132140.000000</td>\n",
              "      <td>3.630182e+05</td>\n",
              "      <td>60845.833333</td>\n",
              "      <td>270</td>\n",
              "    </tr>\n",
              "    <tr>\n",
              "      <th>1786</th>\n",
              "      <td>3717668.0</td>\n",
              "      <td>2013</td>\n",
              "      <td>72.628400</td>\n",
              "      <td>14.038430</td>\n",
              "      <td>12.651164</td>\n",
              "      <td>1761.000000</td>\n",
              "      <td>3.091544e+05</td>\n",
              "      <td>2938.400000</td>\n",
              "      <td>268</td>\n",
              "    </tr>\n",
              "    <tr>\n",
              "      <th>3852</th>\n",
              "      <td>4135579.0</td>\n",
              "      <td>1972</td>\n",
              "      <td>57.429830</td>\n",
              "      <td>9.394598</td>\n",
              "      <td>28.965554</td>\n",
              "      <td>326906.000000</td>\n",
              "      <td>1.860664e+06</td>\n",
              "      <td>64830.250000</td>\n",
              "      <td>646</td>\n",
              "    </tr>\n",
              "    <tr>\n",
              "      <th>3001</th>\n",
              "      <td>1905847.0</td>\n",
              "      <td>1988</td>\n",
              "      <td>62.005248</td>\n",
              "      <td>6.805196</td>\n",
              "      <td>31.767527</td>\n",
              "      <td>548541.762115</td>\n",
              "      <td>6.562110e+05</td>\n",
              "      <td>141206.666667</td>\n",
              "      <td>478</td>\n",
              "    </tr>\n",
              "  </tbody>\n",
              "</table>\n",
              "<p>4525 rows × 9 columns</p>\n",
              "</div>\n",
              "      <button class=\"colab-df-convert\" onclick=\"convertToInteractive('df-d1ecb85a-efef-442d-a12a-73d4b249e698')\"\n",
              "              title=\"Convert this dataframe to an interactive table.\"\n",
              "              style=\"display:none;\">\n",
              "        \n",
              "  <svg xmlns=\"http://www.w3.org/2000/svg\" height=\"24px\"viewBox=\"0 0 24 24\"\n",
              "       width=\"24px\">\n",
              "    <path d=\"M0 0h24v24H0V0z\" fill=\"none\"/>\n",
              "    <path d=\"M18.56 5.44l.94 2.06.94-2.06 2.06-.94-2.06-.94-.94-2.06-.94 2.06-2.06.94zm-11 1L8.5 8.5l.94-2.06 2.06-.94-2.06-.94L8.5 2.5l-.94 2.06-2.06.94zm10 10l.94 2.06.94-2.06 2.06-.94-2.06-.94-.94-2.06-.94 2.06-2.06.94z\"/><path d=\"M17.41 7.96l-1.37-1.37c-.4-.4-.92-.59-1.43-.59-.52 0-1.04.2-1.43.59L10.3 9.45l-7.72 7.72c-.78.78-.78 2.05 0 2.83L4 21.41c.39.39.9.59 1.41.59.51 0 1.02-.2 1.41-.59l7.78-7.78 2.81-2.81c.8-.78.8-2.07 0-2.86zM5.41 20L4 18.59l7.72-7.72 1.47 1.35L5.41 20z\"/>\n",
              "  </svg>\n",
              "      </button>\n",
              "      \n",
              "  <style>\n",
              "    .colab-df-container {\n",
              "      display:flex;\n",
              "      flex-wrap:wrap;\n",
              "      gap: 12px;\n",
              "    }\n",
              "\n",
              "    .colab-df-convert {\n",
              "      background-color: #E8F0FE;\n",
              "      border: none;\n",
              "      border-radius: 50%;\n",
              "      cursor: pointer;\n",
              "      display: none;\n",
              "      fill: #1967D2;\n",
              "      height: 32px;\n",
              "      padding: 0 0 0 0;\n",
              "      width: 32px;\n",
              "    }\n",
              "\n",
              "    .colab-df-convert:hover {\n",
              "      background-color: #E2EBFA;\n",
              "      box-shadow: 0px 1px 2px rgba(60, 64, 67, 0.3), 0px 1px 3px 1px rgba(60, 64, 67, 0.15);\n",
              "      fill: #174EA6;\n",
              "    }\n",
              "\n",
              "    [theme=dark] .colab-df-convert {\n",
              "      background-color: #3B4455;\n",
              "      fill: #D2E3FC;\n",
              "    }\n",
              "\n",
              "    [theme=dark] .colab-df-convert:hover {\n",
              "      background-color: #434B5C;\n",
              "      box-shadow: 0px 1px 3px 1px rgba(0, 0, 0, 0.15);\n",
              "      filter: drop-shadow(0px 1px 2px rgba(0, 0, 0, 0.3));\n",
              "      fill: #FFFFFF;\n",
              "    }\n",
              "  </style>\n",
              "\n",
              "      <script>\n",
              "        const buttonEl =\n",
              "          document.querySelector('#df-d1ecb85a-efef-442d-a12a-73d4b249e698 button.colab-df-convert');\n",
              "        buttonEl.style.display =\n",
              "          google.colab.kernel.accessAllowed ? 'block' : 'none';\n",
              "\n",
              "        async function convertToInteractive(key) {\n",
              "          const element = document.querySelector('#df-d1ecb85a-efef-442d-a12a-73d4b249e698');\n",
              "          const dataTable =\n",
              "            await google.colab.kernel.invokeFunction('convertToInteractive',\n",
              "                                                     [key], {});\n",
              "          if (!dataTable) return;\n",
              "\n",
              "          const docLinkHtml = 'Like what you see? Visit the ' +\n",
              "            '<a target=\"_blank\" href=https://colab.research.google.com/notebooks/data_table.ipynb>data table notebook</a>'\n",
              "            + ' to learn more about interactive tables.';\n",
              "          element.innerHTML = '';\n",
              "          dataTable['output_type'] = 'display_data';\n",
              "          await google.colab.output.renderOutput(dataTable, element);\n",
              "          const docLink = document.createElement('div');\n",
              "          docLink.innerHTML = docLinkHtml;\n",
              "          element.appendChild(docLink);\n",
              "        }\n",
              "      </script>\n",
              "    </div>\n",
              "  </div>\n",
              "  "
            ]
          },
          "metadata": {},
          "execution_count": 353
        }
      ]
    },
    {
      "cell_type": "code",
      "source": [
        "# model = LinearRegression().fit(train_x, train_y)\n",
        "# print(model.intercept_)\n",
        "# y_pred=model.predict(test_x)\n",
        "\n",
        "# y_pred=pd.DataFrame(y_pred, columns = ['ps_comp'])\n",
        "\n",
        "# # y_pred['ps_comp']=y_pred['ps_comp'].apply(np.ceil)\n",
        "# y_pred\n",
        "from sklearn.ensemble import RandomForestRegressor\n",
        "clf = RandomForestRegressor()\n",
        "clf.fit(train_x, train_y)\n",
        "\n",
        "predict = clf.predict(test_x)\n",
        "y_pred=pd.DataFrame(predict, columns = ['ps_comp'])"
      ],
      "metadata": {
        "id": "JoDGvi-pAWbN"
      },
      "execution_count": 354,
      "outputs": []
    },
    {
      "cell_type": "code",
      "source": [
        "train_x"
      ],
      "metadata": {
        "colab": {
          "base_uri": "https://localhost:8080/",
          "height": 424
        },
        "id": "qEQ34cAaXwh4",
        "outputId": "e537dd2c-d938-462c-db6f-e5a3d39c6ff3"
      },
      "execution_count": 355,
      "outputs": [
        {
          "output_type": "execute_result",
          "data": {
            "text/plain": [
              "             pop  year         le        eys  coef_ineq  illiterate_youth  \\\n",
              "2141    319014.0  2011  82.178000  18.547359   5.462641     548541.762115   \n",
              "3585   3495276.0  2008  76.224700  12.777290  21.081329     548541.762115   \n",
              "31    14439748.0  1972  71.947730  12.332351  19.564613     156217.000000   \n",
              "1171    743446.0  1986  77.969221  13.177182  10.130102     548541.762115   \n",
              "3435   2076217.0  2018  77.314200  13.507330  10.706655     548541.762115   \n",
              "...          ...   ...        ...        ...        ...               ...   \n",
              "1041   5123105.0  2020  79.277000  16.545771  16.957122     548541.762115   \n",
              "1736    795563.0  1983  59.219254   7.425258  32.335503     132140.000000   \n",
              "1786   3717668.0  2013  72.628400  14.038430  12.651164       1761.000000   \n",
              "3852   4135579.0  1972  57.429830   9.394598  28.965554     326906.000000   \n",
              "3001   1905847.0  1988  62.005248   6.805196  31.767527     548541.762115   \n",
              "\n",
              "      school_age_prim  oo_school_prim iso_num  \n",
              "2141     3.199600e+04       61.000000     352  \n",
              "3585     4.500215e+05    53307.500000     591  \n",
              "31       4.010073e+06    16077.200000     012  \n",
              "1171     5.674725e+04      584.750000     196  \n",
              "3435     1.118590e+05      781.000000     807  \n",
              "...               ...             ...     ...  \n",
              "1041     4.284680e+05      316.000000     188  \n",
              "1736     3.630182e+05    60845.833333     270  \n",
              "1786     3.091544e+05     2938.400000     268  \n",
              "3852     1.860664e+06    64830.250000     646  \n",
              "3001     6.562110e+05   141206.666667     478  \n",
              "\n",
              "[4525 rows x 9 columns]"
            ],
            "text/html": [
              "\n",
              "  <div id=\"df-dd57438a-f4dc-4c6c-8fac-6068664791f9\">\n",
              "    <div class=\"colab-df-container\">\n",
              "      <div>\n",
              "<style scoped>\n",
              "    .dataframe tbody tr th:only-of-type {\n",
              "        vertical-align: middle;\n",
              "    }\n",
              "\n",
              "    .dataframe tbody tr th {\n",
              "        vertical-align: top;\n",
              "    }\n",
              "\n",
              "    .dataframe thead th {\n",
              "        text-align: right;\n",
              "    }\n",
              "</style>\n",
              "<table border=\"1\" class=\"dataframe\">\n",
              "  <thead>\n",
              "    <tr style=\"text-align: right;\">\n",
              "      <th></th>\n",
              "      <th>pop</th>\n",
              "      <th>year</th>\n",
              "      <th>le</th>\n",
              "      <th>eys</th>\n",
              "      <th>coef_ineq</th>\n",
              "      <th>illiterate_youth</th>\n",
              "      <th>school_age_prim</th>\n",
              "      <th>oo_school_prim</th>\n",
              "      <th>iso_num</th>\n",
              "    </tr>\n",
              "  </thead>\n",
              "  <tbody>\n",
              "    <tr>\n",
              "      <th>2141</th>\n",
              "      <td>319014.0</td>\n",
              "      <td>2011</td>\n",
              "      <td>82.178000</td>\n",
              "      <td>18.547359</td>\n",
              "      <td>5.462641</td>\n",
              "      <td>548541.762115</td>\n",
              "      <td>3.199600e+04</td>\n",
              "      <td>61.000000</td>\n",
              "      <td>352</td>\n",
              "    </tr>\n",
              "    <tr>\n",
              "      <th>3585</th>\n",
              "      <td>3495276.0</td>\n",
              "      <td>2008</td>\n",
              "      <td>76.224700</td>\n",
              "      <td>12.777290</td>\n",
              "      <td>21.081329</td>\n",
              "      <td>548541.762115</td>\n",
              "      <td>4.500215e+05</td>\n",
              "      <td>53307.500000</td>\n",
              "      <td>591</td>\n",
              "    </tr>\n",
              "    <tr>\n",
              "      <th>31</th>\n",
              "      <td>14439748.0</td>\n",
              "      <td>1972</td>\n",
              "      <td>71.947730</td>\n",
              "      <td>12.332351</td>\n",
              "      <td>19.564613</td>\n",
              "      <td>156217.000000</td>\n",
              "      <td>4.010073e+06</td>\n",
              "      <td>16077.200000</td>\n",
              "      <td>012</td>\n",
              "    </tr>\n",
              "    <tr>\n",
              "      <th>1171</th>\n",
              "      <td>743446.0</td>\n",
              "      <td>1986</td>\n",
              "      <td>77.969221</td>\n",
              "      <td>13.177182</td>\n",
              "      <td>10.130102</td>\n",
              "      <td>548541.762115</td>\n",
              "      <td>5.674725e+04</td>\n",
              "      <td>584.750000</td>\n",
              "      <td>196</td>\n",
              "    </tr>\n",
              "    <tr>\n",
              "      <th>3435</th>\n",
              "      <td>2076217.0</td>\n",
              "      <td>2018</td>\n",
              "      <td>77.314200</td>\n",
              "      <td>13.507330</td>\n",
              "      <td>10.706655</td>\n",
              "      <td>548541.762115</td>\n",
              "      <td>1.118590e+05</td>\n",
              "      <td>781.000000</td>\n",
              "      <td>807</td>\n",
              "    </tr>\n",
              "    <tr>\n",
              "      <th>...</th>\n",
              "      <td>...</td>\n",
              "      <td>...</td>\n",
              "      <td>...</td>\n",
              "      <td>...</td>\n",
              "      <td>...</td>\n",
              "      <td>...</td>\n",
              "      <td>...</td>\n",
              "      <td>...</td>\n",
              "      <td>...</td>\n",
              "    </tr>\n",
              "    <tr>\n",
              "      <th>1041</th>\n",
              "      <td>5123105.0</td>\n",
              "      <td>2020</td>\n",
              "      <td>79.277000</td>\n",
              "      <td>16.545771</td>\n",
              "      <td>16.957122</td>\n",
              "      <td>548541.762115</td>\n",
              "      <td>4.284680e+05</td>\n",
              "      <td>316.000000</td>\n",
              "      <td>188</td>\n",
              "    </tr>\n",
              "    <tr>\n",
              "      <th>1736</th>\n",
              "      <td>795563.0</td>\n",
              "      <td>1983</td>\n",
              "      <td>59.219254</td>\n",
              "      <td>7.425258</td>\n",
              "      <td>32.335503</td>\n",
              "      <td>132140.000000</td>\n",
              "      <td>3.630182e+05</td>\n",
              "      <td>60845.833333</td>\n",
              "      <td>270</td>\n",
              "    </tr>\n",
              "    <tr>\n",
              "      <th>1786</th>\n",
              "      <td>3717668.0</td>\n",
              "      <td>2013</td>\n",
              "      <td>72.628400</td>\n",
              "      <td>14.038430</td>\n",
              "      <td>12.651164</td>\n",
              "      <td>1761.000000</td>\n",
              "      <td>3.091544e+05</td>\n",
              "      <td>2938.400000</td>\n",
              "      <td>268</td>\n",
              "    </tr>\n",
              "    <tr>\n",
              "      <th>3852</th>\n",
              "      <td>4135579.0</td>\n",
              "      <td>1972</td>\n",
              "      <td>57.429830</td>\n",
              "      <td>9.394598</td>\n",
              "      <td>28.965554</td>\n",
              "      <td>326906.000000</td>\n",
              "      <td>1.860664e+06</td>\n",
              "      <td>64830.250000</td>\n",
              "      <td>646</td>\n",
              "    </tr>\n",
              "    <tr>\n",
              "      <th>3001</th>\n",
              "      <td>1905847.0</td>\n",
              "      <td>1988</td>\n",
              "      <td>62.005248</td>\n",
              "      <td>6.805196</td>\n",
              "      <td>31.767527</td>\n",
              "      <td>548541.762115</td>\n",
              "      <td>6.562110e+05</td>\n",
              "      <td>141206.666667</td>\n",
              "      <td>478</td>\n",
              "    </tr>\n",
              "  </tbody>\n",
              "</table>\n",
              "<p>4525 rows × 9 columns</p>\n",
              "</div>\n",
              "      <button class=\"colab-df-convert\" onclick=\"convertToInteractive('df-dd57438a-f4dc-4c6c-8fac-6068664791f9')\"\n",
              "              title=\"Convert this dataframe to an interactive table.\"\n",
              "              style=\"display:none;\">\n",
              "        \n",
              "  <svg xmlns=\"http://www.w3.org/2000/svg\" height=\"24px\"viewBox=\"0 0 24 24\"\n",
              "       width=\"24px\">\n",
              "    <path d=\"M0 0h24v24H0V0z\" fill=\"none\"/>\n",
              "    <path d=\"M18.56 5.44l.94 2.06.94-2.06 2.06-.94-2.06-.94-.94-2.06-.94 2.06-2.06.94zm-11 1L8.5 8.5l.94-2.06 2.06-.94-2.06-.94L8.5 2.5l-.94 2.06-2.06.94zm10 10l.94 2.06.94-2.06 2.06-.94-2.06-.94-.94-2.06-.94 2.06-2.06.94z\"/><path d=\"M17.41 7.96l-1.37-1.37c-.4-.4-.92-.59-1.43-.59-.52 0-1.04.2-1.43.59L10.3 9.45l-7.72 7.72c-.78.78-.78 2.05 0 2.83L4 21.41c.39.39.9.59 1.41.59.51 0 1.02-.2 1.41-.59l7.78-7.78 2.81-2.81c.8-.78.8-2.07 0-2.86zM5.41 20L4 18.59l7.72-7.72 1.47 1.35L5.41 20z\"/>\n",
              "  </svg>\n",
              "      </button>\n",
              "      \n",
              "  <style>\n",
              "    .colab-df-container {\n",
              "      display:flex;\n",
              "      flex-wrap:wrap;\n",
              "      gap: 12px;\n",
              "    }\n",
              "\n",
              "    .colab-df-convert {\n",
              "      background-color: #E8F0FE;\n",
              "      border: none;\n",
              "      border-radius: 50%;\n",
              "      cursor: pointer;\n",
              "      display: none;\n",
              "      fill: #1967D2;\n",
              "      height: 32px;\n",
              "      padding: 0 0 0 0;\n",
              "      width: 32px;\n",
              "    }\n",
              "\n",
              "    .colab-df-convert:hover {\n",
              "      background-color: #E2EBFA;\n",
              "      box-shadow: 0px 1px 2px rgba(60, 64, 67, 0.3), 0px 1px 3px 1px rgba(60, 64, 67, 0.15);\n",
              "      fill: #174EA6;\n",
              "    }\n",
              "\n",
              "    [theme=dark] .colab-df-convert {\n",
              "      background-color: #3B4455;\n",
              "      fill: #D2E3FC;\n",
              "    }\n",
              "\n",
              "    [theme=dark] .colab-df-convert:hover {\n",
              "      background-color: #434B5C;\n",
              "      box-shadow: 0px 1px 3px 1px rgba(0, 0, 0, 0.15);\n",
              "      filter: drop-shadow(0px 1px 2px rgba(0, 0, 0, 0.3));\n",
              "      fill: #FFFFFF;\n",
              "    }\n",
              "  </style>\n",
              "\n",
              "      <script>\n",
              "        const buttonEl =\n",
              "          document.querySelector('#df-dd57438a-f4dc-4c6c-8fac-6068664791f9 button.colab-df-convert');\n",
              "        buttonEl.style.display =\n",
              "          google.colab.kernel.accessAllowed ? 'block' : 'none';\n",
              "\n",
              "        async function convertToInteractive(key) {\n",
              "          const element = document.querySelector('#df-dd57438a-f4dc-4c6c-8fac-6068664791f9');\n",
              "          const dataTable =\n",
              "            await google.colab.kernel.invokeFunction('convertToInteractive',\n",
              "                                                     [key], {});\n",
              "          if (!dataTable) return;\n",
              "\n",
              "          const docLinkHtml = 'Like what you see? Visit the ' +\n",
              "            '<a target=\"_blank\" href=https://colab.research.google.com/notebooks/data_table.ipynb>data table notebook</a>'\n",
              "            + ' to learn more about interactive tables.';\n",
              "          element.innerHTML = '';\n",
              "          dataTable['output_type'] = 'display_data';\n",
              "          await google.colab.output.renderOutput(dataTable, element);\n",
              "          const docLink = document.createElement('div');\n",
              "          docLink.innerHTML = docLinkHtml;\n",
              "          element.appendChild(docLink);\n",
              "        }\n",
              "      </script>\n",
              "    </div>\n",
              "  </div>\n",
              "  "
            ]
          },
          "metadata": {},
          "execution_count": 355
        }
      ]
    },
    {
      "cell_type": "code",
      "source": [
        "from sklearn.metrics import r2_score\n",
        "Accuracy=r2_score(test_y,y_pred)*100\n",
        "print(\" Accuracy of the model is %.2f\" %Accuracy)"
      ],
      "metadata": {
        "colab": {
          "base_uri": "https://localhost:8080/"
        },
        "id": "v1nsmkDoFZOE",
        "outputId": "ba33bc4f-cd0d-49a2-9859-1197098cf15e"
      },
      "execution_count": 356,
      "outputs": [
        {
          "output_type": "stream",
          "name": "stdout",
          "text": [
            " Accuracy of the model is 95.40\n"
          ]
        }
      ]
    },
    {
      "cell_type": "code",
      "source": [
        "import numpy as np\n",
        "import pandas as pd\n",
        "from sklearn.model_selection import train_test_split\n",
        "from sklearn.linear_model import LinearRegression\n",
        "from sklearn.metrics import r2_score\n",
        "import matplotlib.pyplot as plt\n",
        "import seaborn as sns\n",
        "import warnings\n",
        "fig = plt.figure()\n",
        "# fig.set_size_inches(12, 8)\n",
        "# ax = fig.add_subplot(121)\n",
        "\n",
        "# ax.set_xlabel('X-axis ')\n",
        "# ax.set_ylabel('Y-axis ')\n",
        "\n",
        "# ax.xaxis.label.set_color('yellow')        #setting up X-axis label color to yellow\n",
        "# ax.yaxis.label.set_color('blue')          #setting up Y-axis label color to blue\n",
        "\n",
        "# ax.tick_params(axis='x', colors='red')    #setting up X-axis tick color to red\n",
        "# ax.tick_params(axis='y', colors='black')  #setting up Y-axis tick color to black\n",
        "\n",
        "# ax.spines['left'].set_color('red')        # setting up Y-axis tick color to red\n",
        "# ax.spines['top'].set_color('red')         #setting up above X-axis tick color to red\n",
        "# for i in range(11):\n",
        "#     r = np.round(np.random.rand(),1)\n",
        "#     g = np.round(np.random.rand(),1)\n",
        "#     b = np.round(np.random.rand(),1)\n",
        "#     y = i + np.random.rand(100)*0.25\n",
        "plt.scatter(test_y['ps_comp'],y_pred['ps_comp'])\n",
        "# plt.annotate(f\"({r}, {g}, {b})\", (100, y[-1]))\n",
        "\n",
        "\n",
        "\n",
        "plt.show()\n",
        "\n",
        "\n",
        "# # fig = plt.figure()\n",
        "\n",
        "# # ax = fig.add_subplot(121)\n",
        "# warnings.filterwarnings(\"ignore\")\n",
        "\n",
        "# plt.scatter(test_y['ps_comp'],y_pred['ps_comp'],);\n",
        "# plt.tick_params(axis='x', colors='red')    #setting up X-axis tick color to red\n",
        "# plt.tick_params(axis='y', colors='black')\n",
        "# plt.xlabel('Actual');\n",
        "# plt.ylabel('Predicted');"
      ],
      "metadata": {
        "colab": {
          "base_uri": "https://localhost:8080/",
          "height": 265
        },
        "id": "hOMMYIjGZib1",
        "outputId": "9cd560ef-67cd-415b-90dc-2f9a61dfa469"
      },
      "execution_count": 357,
      "outputs": [
        {
          "output_type": "display_data",
          "data": {
            "text/plain": [
              "<Figure size 432x288 with 1 Axes>"
            ],
            "image/png": "[encoded data removed]"
          },
          "metadata": {
            "needs_background": "light"
          }
        }
      ]
    },
    {
      "cell_type": "code",
      "source": [
        "sns.regplot(x=test_y['ps_comp'],y=y_pred['ps_comp'],ci=None,color ='red');"
      ],
      "metadata": {
        "colab": {
          "base_uri": "https://localhost:8080/",
          "height": 279
        },
        "id": "9zMPSLKFZ5xH",
        "outputId": "7a79d470-057a-44e4-fa9e-e83f1743f4de"
      },
      "execution_count": 358,
      "outputs": [
        {
          "output_type": "display_data",
          "data": {
            "text/plain": [
              "<Figure size 432x288 with 1 Axes>"
            ],
            "image/png": "[encoded data removed]"
          },
          "metadata": {
            "needs_background": "light"
          }
        }
      ]
    },
    {
      "cell_type": "code",
      "source": [
        "# pred_df=pd.DataFrame({'Actual Value':test_y,'Predicted Value':y_pred,'Difference':test_y-y_pred})\n"
      ],
      "metadata": {
        "id": "qxf9qMNTaEsc"
      },
      "execution_count": null,
      "outputs": []
    },
    {
      "cell_type": "code",
      "source": [
        "# task4_china=task4[task4['iso3']=='KEN']\n",
        "# task4_china"
      ],
      "metadata": {
        "colab": {
          "base_uri": "https://localhost:8080/",
          "height": 160
        },
        "id": "bzBcHP8hGkzf",
        "outputId": "fbf5d5f0-6862-41b9-a0d7-5f9942ac8d58"
      },
      "execution_count": 13,
      "outputs": [
        {
          "output_type": "execute_result",
          "data": {
            "text/plain": [
              "Empty DataFrame\n",
              "Columns: [level_0, index, Unnamed: 0, iso3, country, pop, year, ps_comp, psr_comp_source, gii, gnipc, gov_exp_pc, le, eys, mys, coef_ineq, rural, compulsory, illiterate_adult, illiterate_youth, school_age_prim, oo_school_prim, gov_exp]\n",
              "Index: []\n",
              "\n",
              "[0 rows x 23 columns]"
            ],
            "text/html": [
              "\n",
              "  <div id=\"df-4ca68753-6b71-4e64-9840-9f323cd7a5f6\">\n",
              "    <div class=\"colab-df-container\">\n",
              "      <div>\n",
              "<style scoped>\n",
              "    .dataframe tbody tr th:only-of-type {\n",
              "        vertical-align: middle;\n",
              "    }\n",
              "\n",
              "    .dataframe tbody tr th {\n",
              "        vertical-align: top;\n",
              "    }\n",
              "\n",
              "    .dataframe thead th {\n",
              "        text-align: right;\n",
              "    }\n",
              "</style>\n",
              "<table border=\"1\" class=\"dataframe\">\n",
              "  <thead>\n",
              "    <tr style=\"text-align: right;\">\n",
              "      <th></th>\n",
              "      <th>level_0</th>\n",
              "      <th>index</th>\n",
              "      <th>Unnamed: 0</th>\n",
              "      <th>iso3</th>\n",
              "      <th>country</th>\n",
              "      <th>pop</th>\n",
              "      <th>year</th>\n",
              "      <th>ps_comp</th>\n",
              "      <th>psr_comp_source</th>\n",
              "      <th>gii</th>\n",
              "      <th>...</th>\n",
              "      <th>eys</th>\n",
              "      <th>mys</th>\n",
              "      <th>coef_ineq</th>\n",
              "      <th>rural</th>\n",
              "      <th>compulsory</th>\n",
              "      <th>illiterate_adult</th>\n",
              "      <th>illiterate_youth</th>\n",
              "      <th>school_age_prim</th>\n",
              "      <th>oo_school_prim</th>\n",
              "      <th>gov_exp</th>\n",
              "    </tr>\n",
              "  </thead>\n",
              "  <tbody>\n",
              "  </tbody>\n",
              "</table>\n",
              "<p>0 rows × 23 columns</p>\n",
              "</div>\n",
              "      <button class=\"colab-df-convert\" onclick=\"convertToInteractive('df-4ca68753-6b71-4e64-9840-9f323cd7a5f6')\"\n",
              "              title=\"Convert this dataframe to an interactive table.\"\n",
              "              style=\"display:none;\">\n",
              "        \n",
              "  <svg xmlns=\"http://www.w3.org/2000/svg\" height=\"24px\"viewBox=\"0 0 24 24\"\n",
              "       width=\"24px\">\n",
              "    <path d=\"M0 0h24v24H0V0z\" fill=\"none\"/>\n",
              "    <path d=\"M18.56 5.44l.94 2.06.94-2.06 2.06-.94-2.06-.94-.94-2.06-.94 2.06-2.06.94zm-11 1L8.5 8.5l.94-2.06 2.06-.94-2.06-.94L8.5 2.5l-.94 2.06-2.06.94zm10 10l.94 2.06.94-2.06 2.06-.94-2.06-.94-.94-2.06-.94 2.06-2.06.94z\"/><path d=\"M17.41 7.96l-1.37-1.37c-.4-.4-.92-.59-1.43-.59-.52 0-1.04.2-1.43.59L10.3 9.45l-7.72 7.72c-.78.78-.78 2.05 0 2.83L4 21.41c.39.39.9.59 1.41.59.51 0 1.02-.2 1.41-.59l7.78-7.78 2.81-2.81c.8-.78.8-2.07 0-2.86zM5.41 20L4 18.59l7.72-7.72 1.47 1.35L5.41 20z\"/>\n",
              "  </svg>\n",
              "      </button>\n",
              "      \n",
              "  <style>\n",
              "    .colab-df-container {\n",
              "      display:flex;\n",
              "      flex-wrap:wrap;\n",
              "      gap: 12px;\n",
              "    }\n",
              "\n",
              "    .colab-df-convert {\n",
              "      background-color: #E8F0FE;\n",
              "      border: none;\n",
              "      border-radius: 50%;\n",
              "      cursor: pointer;\n",
              "      display: none;\n",
              "      fill: #1967D2;\n",
              "      height: 32px;\n",
              "      padding: 0 0 0 0;\n",
              "      width: 32px;\n",
              "    }\n",
              "\n",
              "    .colab-df-convert:hover {\n",
              "      background-color: #E2EBFA;\n",
              "      box-shadow: 0px 1px 2px rgba(60, 64, 67, 0.3), 0px 1px 3px 1px rgba(60, 64, 67, 0.15);\n",
              "      fill: #174EA6;\n",
              "    }\n",
              "\n",
              "    [theme=dark] .colab-df-convert {\n",
              "      background-color: #3B4455;\n",
              "      fill: #D2E3FC;\n",
              "    }\n",
              "\n",
              "    [theme=dark] .colab-df-convert:hover {\n",
              "      background-color: #434B5C;\n",
              "      box-shadow: 0px 1px 3px 1px rgba(0, 0, 0, 0.15);\n",
              "      filter: drop-shadow(0px 1px 2px rgba(0, 0, 0, 0.3));\n",
              "      fill: #FFFFFF;\n",
              "    }\n",
              "  </style>\n",
              "\n",
              "      <script>\n",
              "        const buttonEl =\n",
              "          document.querySelector('#df-4ca68753-6b71-4e64-9840-9f323cd7a5f6 button.colab-df-convert');\n",
              "        buttonEl.style.display =\n",
              "          google.colab.kernel.accessAllowed ? 'block' : 'none';\n",
              "\n",
              "        async function convertToInteractive(key) {\n",
              "          const element = document.querySelector('#df-4ca68753-6b71-4e64-9840-9f323cd7a5f6');\n",
              "          const dataTable =\n",
              "            await google.colab.kernel.invokeFunction('convertToInteractive',\n",
              "                                                     [key], {});\n",
              "          if (!dataTable) return;\n",
              "\n",
              "          const docLinkHtml = 'Like what you see? Visit the ' +\n",
              "            '<a target=\"_blank\" href=https://colab.research.google.com/notebooks/data_table.ipynb>data table notebook</a>'\n",
              "            + ' to learn more about interactive tables.';\n",
              "          element.innerHTML = '';\n",
              "          dataTable['output_type'] = 'display_data';\n",
              "          await google.colab.output.renderOutput(dataTable, element);\n",
              "          const docLink = document.createElement('div');\n",
              "          docLink.innerHTML = docLinkHtml;\n",
              "          element.appendChild(docLink);\n",
              "        }\n",
              "      </script>\n",
              "    </div>\n",
              "  </div>\n",
              "  "
            ]
          },
          "metadata": {},
          "execution_count": 13
        }
      ]
    },
    {
      "cell_type": "markdown",
      "source": [
        "China - no\n",
        "IRN =1 -2016\n",
        "\n",
        "KEN -no "
      ],
      "metadata": {
        "id": "deYuk0-IIRYi"
      }
    }
  ]
}